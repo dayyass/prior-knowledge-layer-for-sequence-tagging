{
 "metadata": {
  "language_info": {
   "codemirror_mode": {
    "name": "ipython",
    "version": 3
   },
   "file_extension": ".py",
   "mimetype": "text/x-python",
   "name": "python",
   "nbconvert_exporter": "python",
   "pygments_lexer": "ipython3",
   "version": "3.9.5"
  },
  "orig_nbformat": 4,
  "kernelspec": {
   "name": "python3",
   "display_name": "Python 3.9.5 64-bit ('venv': venv)"
  },
  "interpreter": {
   "hash": "845c5602ab99810ab764514180c741e7c3ea060beb690dec8bc374d83bb9cb81"
  }
 },
 "nbformat": 4,
 "nbformat_minor": 2,
 "cells": [
  {
   "cell_type": "code",
   "execution_count": 1,
   "metadata": {},
   "outputs": [],
   "source": [
    "import sys\n",
    "sys.path.append(\"..\")"
   ]
  },
  {
   "cell_type": "code",
   "execution_count": 2,
   "metadata": {},
   "outputs": [
    {
     "output_type": "execute_result",
     "data": {
      "text/plain": [
       "<torch._C.Generator at 0x112b812d0>"
      ]
     },
     "metadata": {},
     "execution_count": 2
    }
   ],
   "source": [
    "import torch\n",
    "torch.manual_seed(42)"
   ]
  },
  {
   "cell_type": "code",
   "execution_count": 3,
   "metadata": {},
   "outputs": [],
   "source": [
    "from prior_knowledge_layer import PriorKnowledgeLayer, init_prior_knowledge_matrix"
   ]
  },
  {
   "cell_type": "code",
   "execution_count": 4,
   "metadata": {},
   "outputs": [],
   "source": [
    "labels = [\"O\", \"B-PER\", \"B-LOC\", \"B-ORG\", \"I-PER\", \"I-LOC\", \"I-ORG\"]"
   ]
  },
  {
   "cell_type": "code",
   "execution_count": 5,
   "metadata": {},
   "outputs": [],
   "source": [
    "prohibited_transitions = {\n",
    "    \"O\": (\"I-PER\", \"I-LOC\", \"I-ORG\"),\n",
    "    \"B-PER\": (\"I-LOC\", \"I-ORG\"),\n",
    "    \"B-LOC\": (\"I-PER\", \"I-ORG\"),\n",
    "    \"B-ORG\": (\"I-PER\", \"I-LOC\"),\n",
    "    \"I-PER\": (\"I-LOC\", \"I-ORG\"),\n",
    "    \"I-LOC\": (\"I-PER\", \"I-ORG\"),\n",
    "    \"I-ORG\": (\"I-PER\", \"I-LOC\"),\n",
    "}"
   ]
  },
  {
   "cell_type": "code",
   "execution_count": 6,
   "metadata": {},
   "outputs": [],
   "source": [
    "prior_knowledge_matrix = init_prior_knowledge_matrix(\n",
    "    labels=labels,\n",
    "    prohibited_transitions=prohibited_transitions,\n",
    "    prohibited_transition_value=1,\n",
    ")"
   ]
  },
  {
   "cell_type": "code",
   "execution_count": 7,
   "metadata": {},
   "outputs": [
    {
     "output_type": "execute_result",
     "data": {
      "text/plain": [
       "tensor([[0., 0., 0., 0., 1., 1., 1.],\n",
       "        [0., 0., 0., 0., 0., 1., 1.],\n",
       "        [0., 0., 0., 0., 1., 0., 1.],\n",
       "        [0., 0., 0., 0., 1., 1., 0.],\n",
       "        [0., 0., 0., 0., 0., 1., 1.],\n",
       "        [0., 0., 0., 0., 1., 0., 1.],\n",
       "        [0., 0., 0., 0., 1., 1., 0.]])"
      ]
     },
     "metadata": {},
     "execution_count": 7
    }
   ],
   "source": [
    "prior_knowledge_matrix"
   ]
  },
  {
   "cell_type": "code",
   "execution_count": 8,
   "metadata": {},
   "outputs": [],
   "source": [
    "layer = PriorKnowledgeLayer(prior_knowledge_matrix)"
   ]
  },
  {
   "cell_type": "code",
   "execution_count": 9,
   "metadata": {},
   "outputs": [
    {
     "output_type": "execute_result",
     "data": {
      "text/plain": [
       "PriorKnowledgeLayer()"
      ]
     },
     "metadata": {},
     "execution_count": 9
    }
   ],
   "source": [
    "layer"
   ]
  },
  {
   "cell_type": "code",
   "execution_count": 10,
   "metadata": {},
   "outputs": [
    {
     "output_type": "execute_result",
     "data": {
      "text/plain": [
       "torch.Size([8, 25, 7])"
      ]
     },
     "metadata": {},
     "execution_count": 10
    }
   ],
   "source": [
    "batch_size = 8\n",
    "seq_len = 25\n",
    "n_classes = len(labels)\n",
    "\n",
    "logits = torch.randn(batch_size, seq_len, n_classes)\n",
    "\n",
    "logits.shape"
   ]
  },
  {
   "cell_type": "code",
   "execution_count": 11,
   "metadata": {},
   "outputs": [
    {
     "output_type": "execute_result",
     "data": {
      "text/plain": [
       "torch.Size([8, 24])"
      ]
     },
     "metadata": {},
     "execution_count": 11
    }
   ],
   "source": [
    "output = layer(logits)\n",
    "\n",
    "output.shape"
   ]
  },
  {
   "cell_type": "code",
   "execution_count": null,
   "metadata": {},
   "outputs": [],
   "source": []
  }
 ]
}
